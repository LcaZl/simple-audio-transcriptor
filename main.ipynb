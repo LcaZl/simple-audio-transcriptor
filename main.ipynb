{
 "cells": [
  {
   "cell_type": "code",
   "execution_count": null,
   "id": "f835557a",
   "metadata": {},
   "outputs": [
    {
     "name": "stdout",
     "output_type": "stream",
     "text": [
      "Trascrizione completata!\n"
     ]
    }
   ],
   "source": [
    "import whisper\n",
    "import os\n",
    "\n",
    "model = whisper.load_model(\"medium\") # small, medium, large\n",
    "\n",
    "AUDIO_PATH = \"audio_files/\" # File name here\n",
    "AUDIO_BASENAME = os.path.basename(AUDIO_PATH)[:-4]\n",
    "\n",
    "result = model.transcribe(\"audio_files/Riunione 1 - 140525.m4a\", language=\"it\")\n",
    "\n",
    "with open(f\"transcriptions/{AUDIO_BASENAME}.txt\", \"w\", encoding=\"utf-8\") as f:\n",
    "    f.write(result[\"text\"])\n",
    "\n",
    "print(\"Transcriptions complete!\")\n"
   ]
  }
 ],
 "metadata": {
  "kernelspec": {
   "display_name": "whisper_env (3.12.3)",
   "language": "python",
   "name": "python3"
  },
  "language_info": {
   "codemirror_mode": {
    "name": "ipython",
    "version": 3
   },
   "file_extension": ".py",
   "mimetype": "text/x-python",
   "name": "python",
   "nbconvert_exporter": "python",
   "pygments_lexer": "ipython3",
   "version": "3.12.3"
  }
 },
 "nbformat": 4,
 "nbformat_minor": 5
}
